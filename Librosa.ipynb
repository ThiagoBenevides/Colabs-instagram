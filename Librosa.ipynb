{
  "nbformat": 4,
  "nbformat_minor": 0,
  "metadata": {
    "colab": {
      "provenance": [],
      "authorship_tag": "ABX9TyOxkQmUGlAksJ2dZ+6LNu2t",
      "include_colab_link": true
    },
    "kernelspec": {
      "name": "python3",
      "display_name": "Python 3"
    },
    "language_info": {
      "name": "python"
    }
  },
  "cells": [
    {
      "cell_type": "markdown",
      "metadata": {
        "id": "view-in-github",
        "colab_type": "text"
      },
      "source": [
        "<a href=\"https://colab.research.google.com/github/ThiagoBenevides/Colabs-instagram/blob/main/Librosa.ipynb\" target=\"_parent\"><img src=\"https://colab.research.google.com/assets/colab-badge.svg\" alt=\"Open In Colab\"/></a>"
      ]
    },
    {
      "cell_type": "markdown",
      "source": [
        "# Começando com o Librosa"
      ],
      "metadata": {
        "id": "z7aM0DFRlOra"
      }
    },
    {
      "cell_type": "markdown",
      "source": [
        "O librosa é uma biblioteca de python para análise de áudio. Ela fornece um grande leque de funcionalidades para que possamos fazer nossas análise de áudio, por exemplo, extração de características, manipulação de sinais e visualização de dados."
      ],
      "metadata": {
        "id": "KtGhDUEElswY"
      }
    },
    {
      "cell_type": "markdown",
      "source": [
        "A maior vantegem que o librosa pode fornecer a seus usuários é em relação a sua facilidade de ser utilizada. É possível carregar arquivos de áudio em questão de segundos utilizando poucas linhas de código, e a partir de carregado temos acesso a uma ampla gama de funcionalidades para nossas análises. Por exemplo, podemos visualizar o espectrograma de um arquivo de áudio da seguinte forma:"
      ],
      "metadata": {
        "id": "N70vLhbpmA7t"
      }
    },
    {
      "cell_type": "code",
      "source": [
        "#instalando o librosa\n",
        "!pip install librosa"
      ],
      "metadata": {
        "id": "TGD-F5cdmhJc"
      },
      "execution_count": null,
      "outputs": []
    },
    {
      "cell_type": "code",
      "source": [
        "import librosa\n",
        "import matplotlib.pyplot as plt\n",
        "\n",
        "arquivo = \"exemplo.wav\"\n",
        "y,sr = librosa.load(arquivo)\n",
        "espectro = librosa.feature.melspectrogram(y=y,sr=sr)\n",
        "librosa.display.specshow(librosa.power_to_db(espectro), y_axis='mel', x_axis='time')\n",
        "plt.title(\"Mel espectrograma\")\n",
        "plt.tight_layout()\n",
        "plt.show()"
      ],
      "metadata": {
        "id": "yXYBwCi1mkdP"
      },
      "execution_count": null,
      "outputs": []
    },
    {
      "cell_type": "markdown",
      "source": [
        "No código anterior carregamos o arquivo de áudio \"exemplo.wav\" e armazenamos o sinal e a taxa de amostragem em `y` e `sr`, respectivamente. Em seguida, usamos a função `librosa.feature.melspectrogram` para calcular o espectrograma de Mel do sinal de áudio, e a função `librosa.powe_to_db` para converter o espectrograma para dB. Finalmente usamos o matplotlib para exibir o espectrograma em um gráfico."
      ],
      "metadata": {
        "id": "zf1Ltk2Ln2R7"
      }
    },
    {
      "cell_type": "markdown",
      "source": [
        "Outra funcionalidade interessante do Librosa é a extração de características. É possível extrair uma variedade de características de áudio, incluindo tempo, frequência e tempo-frequência, como a função de onda, a matriz de autocorrelação e o espectrograma. Por exemplo, é possível extrair as características tempo-frequência a partir de um arquivo de audio utilizando o seguinte código:"
      ],
      "metadata": {
        "id": "cqEFu3NxoV4Z"
      }
    },
    {
      "cell_type": "code",
      "source": [
        "#importando a biblioteca numpy\n",
        "import numpy as np"
      ],
      "metadata": {
        "id": "oo5fw6qfqSNT"
      },
      "execution_count": null,
      "outputs": []
    },
    {
      "cell_type": "code",
      "source": [
        "arquivo = \"exemplo.wav\"\n",
        "y,sr = librosa.load(arquivo)\n",
        "S= librosa.feature.melspectrogram(y=y, sr=sr)\n",
        "log_S= librosa.power_to_db(S,ref=np.max)\n",
        "\n",
        "mfcc= librosa.feature.mfcc(S=log_S,n_mfcc=13)\n",
        "delta_mfcc= librosa.feature.delta(mfcc)\n",
        "delta2_mfcc= librosa.feature.delta(mfcc,order=2)"
      ],
      "metadata": {
        "id": "LkpoSz_zov-N"
      },
      "execution_count": null,
      "outputs": []
    },
    {
      "cell_type": "markdown",
      "source": [
        "Com isso conseguimos perceber como a biblioteca librosa é eficiente e simples de ser utilizada. Porém isso não é tudo que podemos fazer com ela, podemos ainda criar algoritmos para detecção de batidas e mineração de sentimentos em audio utilizando o librosa."
      ],
      "metadata": {
        "id": "rjR7lUpYqdhv"
      }
    },
    {
      "cell_type": "markdown",
      "source": [
        "Então, se você tiver interesse sugiro que faça o seguinte:\n",
        "\n",
        "* Siga o perfil @professorbenevides no instagram, pois lá sempre estou postando trechos de código e exemplos sobre programação, machine learning e deep learning\n",
        "\n",
        "* Procure a documentação oficial\n",
        "\n",
        "* Procure outros códigos aqui no github"
      ],
      "metadata": {
        "id": "0DgrJp4jquJl"
      }
    },
    {
      "cell_type": "code",
      "source": [],
      "metadata": {
        "id": "LdUj2E4orEx6"
      },
      "execution_count": null,
      "outputs": []
    }
  ]
}