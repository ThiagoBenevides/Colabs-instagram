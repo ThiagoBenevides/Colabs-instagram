{
  "nbformat": 4,
  "nbformat_minor": 0,
  "metadata": {
    "colab": {
      "provenance": [],
      "authorship_tag": "ABX9TyN7/mNC8/NEjVwEVT+ifAzw",
      "include_colab_link": true
    },
    "kernelspec": {
      "name": "python3",
      "display_name": "Python 3"
    },
    "language_info": {
      "name": "python"
    }
  },
  "cells": [
    {
      "cell_type": "markdown",
      "metadata": {
        "id": "view-in-github",
        "colab_type": "text"
      },
      "source": [
        "<a href=\"https://colab.research.google.com/github/ThiagoBenevides/Colabs-instagram/blob/main/Engajar_no_instagram.ipynb\" target=\"_parent\"><img src=\"https://colab.research.google.com/assets/colab-badge.svg\" alt=\"Open In Colab\"/></a>"
      ]
    },
    {
      "cell_type": "markdown",
      "source": [
        "# Como calcular o engajamento no instagram com python?"
      ],
      "metadata": {
        "id": "FDHGX3vSscdi"
      }
    },
    {
      "cell_type": "markdown",
      "source": [
        "O instagram é uma das plataformas mais populares de compartilhamento de fotos e vídeos, e é uma ótima ferramenta para empresas e influenciadores digitais construírem sua presença online. Um dos métodos mais eficazes para medir o *sucesso* na plataforma é o engajamento das publicação. O engajamento representa a interação dos seguidores com as publicações como curtidas, comentários e compartilhamentos."
      ],
      "metadata": {
        "id": "3daEm0E5soVZ"
      }
    },
    {
      "cell_type": "markdown",
      "source": [
        "Agora, quero mostrar para você como podemos utilizar a linguagem python para calcular o engajmento e visualizar a evolução desse engajamento ao longo do tempo."
      ],
      "metadata": {
        "id": "Jpm1bDcvtL7p"
      }
    },
    {
      "cell_type": "markdown",
      "source": [
        "Vamos utilizar o módulo pandas para ler um arquivo csv com as métricas coletadas do Instagram, e o módulo matplotlib para construirmos um gráfico de linhas mostrando a evolução do engajamento."
      ],
      "metadata": {
        "id": "6mNehd_ytach"
      }
    },
    {
      "cell_type": "markdown",
      "source": [
        "## Construindo a classe para calcular o engajamento"
      ],
      "metadata": {
        "id": "9JdLeU5btm-r"
      }
    },
    {
      "cell_type": "markdown",
      "source": [
        "Em primeiro lugar iremos dar um nome a nossa classe, neste caso o nome escolido foi `EngajamentoInstagram`, que receberá o nome do arquivo csv com as métricas coletadas do Instagram. O método `EngajamentoInstagram` será responsável por ler o arquivo csv, calcular o engajamento e retornar o resultado. A seguir você pode observar o código:"
      ],
      "metadata": {
        "id": "gNBOA-dZtsV_"
      }
    },
    {
      "cell_type": "code",
      "source": [
        "import pandas as pd\n",
        "\n",
        "class EngajamentoInstagram:\n",
        "  def __init__(self,file_name):\n",
        "    self.file_name = file_name\n",
        "\n",
        "  def calculo_engajamento(self):\n",
        "    data =pd.read_csv(self.file_name)\n",
        "    engajamento = (data['likes']+data['comentario']+data['compartilhamento'])/data['seguidores']\n",
        "    return engajamento"
      ],
      "metadata": {
        "id": "w7QbQVYwuHBG"
      },
      "execution_count": null,
      "outputs": []
    },
    {
      "cell_type": "markdown",
      "source": [
        "Com essa classe conseguiremos calcular o engajamento, porém ainda falta a visualização deste engajamento. Que vamos fazer agora:"
      ],
      "metadata": {
        "id": "ho0Rr2VGuvG-"
      }
    },
    {
      "cell_type": "code",
      "source": [
        "import matplotlib.pyplot as plt\n",
        "\n",
        "engajamento = EngajamentoInstagram(\"metricas.csv\").calculo_engajamento()\n",
        "plt.plot(engajamento)\n",
        "plt.xlabel(\"Postagem\")\n",
        "plt.ylabel(\"Engajamento\")\n",
        "plt.title(\"Evolução do engajamento no instagram\")\n",
        "plt.show()"
      ],
      "metadata": {
        "id": "w04IRJzpu3yO"
      },
      "execution_count": null,
      "outputs": []
    },
    {
      "cell_type": "markdown",
      "source": [
        "##Conclusão"
      ],
      "metadata": {
        "id": "yNsVzLAtvamd"
      }
    },
    {
      "cell_type": "markdown",
      "source": [
        "Com essa classe em python, é possível calcular e visualizar facilmente o engajamento no instagram. Isso pode ser útil para empresas e influenciadores digitais monitorarem o sucesso de suas publicações.\n",
        "\n",
        "Entretanto, preciso enfatizar uma coisa no fim deste artigo. O Instagram não fornece o arquivo csv com suas métricas diferente do seu concorrente \"TikTok\" que fornece as métricas em csv, então você pode utilizar o arquivo para calcular o engajamento."
      ],
      "metadata": {
        "id": "F0FRtDtavdEB"
      }
    }
  ]
}