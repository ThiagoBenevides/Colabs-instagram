{
  "nbformat": 4,
  "nbformat_minor": 0,
  "metadata": {
    "colab": {
      "provenance": [],
      "authorship_tag": "ABX9TyMNTqucllx4Br95GCztlyF5",
      "include_colab_link": true
    },
    "kernelspec": {
      "name": "python3",
      "display_name": "Python 3"
    },
    "language_info": {
      "name": "python"
    }
  },
  "cells": [
    {
      "cell_type": "markdown",
      "metadata": {
        "id": "view-in-github",
        "colab_type": "text"
      },
      "source": [
        "<a href=\"https://colab.research.google.com/github/ThiagoBenevides/Colabs-instagram/blob/main/Teoria_de_Grafos.ipynb\" target=\"_parent\"><img src=\"https://colab.research.google.com/assets/colab-badge.svg\" alt=\"Open In Colab\"/></a>"
      ]
    },
    {
      "cell_type": "markdown",
      "source": [
        "# Teoria de Grafos"
      ],
      "metadata": {
        "id": "lqKqTjJVl878"
      }
    },
    {
      "cell_type": "markdown",
      "source": [
        "A teoria de Grafos é uma das áreas mais interessantes e importantes\n",
        "da matemática Discreta. Ela trata da representação e análise de relações entre objetos,\n",
        "sejam eles físicos ou conceituais. A teoria de grafos é aplicada em diversas áreas,\n",
        "incluindo ciência da computação, engenharia, biologia, física, entre outras."
      ],
      "metadata": {
        "id": "l43eiCI4mA6o"
      }
    },
    {
      "cell_type": "markdown",
      "source": [
        "Em computação, a teoria de grafos é usada para representar e processar informações complexas, como redes sociais, sistemas de recomendação, reconhecimento de imagem e muito mais. A biblioteca NetworkX é uma das mais populares e amplamente utilizadas para trabalhar com grafos em Python."
      ],
      "metadata": {
        "id": "KLs5ctVjmGW5"
      }
    },
    {
      "cell_type": "markdown",
      "source": [
        "## O que é um grafo?"
      ],
      "metadata": {
        "id": "MjaxsKpkm41l"
      }
    },
    {
      "cell_type": "markdown",
      "source": [
        "Um grafo é composto por vértices também chamado de nós e arestas também chamadas de ligações. Cada vértice representa um objeto ou conceito e as arestas representam relações entre esses objetos ou conceitos. Existem dois tipos principais de grafos: grafos direcionados e grafos não direcionados. Em um grafo direcionado, as arestas têm direção, ou seja, apontam de um vértice para outro. Já em um grafo não direcionado, as arestas não têm direção."
      ],
      "metadata": {
        "id": "G9dx-JZMm_Dx"
      }
    },
    {
      "cell_type": "markdown",
      "source": [
        "A biblioteca NetworkX permite a criação e a manipulação de grafos de vários tipos, como grafos completos, árvores, grafos direcionados e não direcionados, entre outros. Além disso, a biblioteca oferece métodos para que possamos realizar análises, como cálculo de componentes conexas, caminhos mais curtos, entre outros."
      ],
      "metadata": {
        "id": "FyAX6rX9niRW"
      }
    },
    {
      "cell_type": "markdown",
      "source": [
        "Vejamos um exemplo prático de como utilizar a biblioteca NetworkX para trabalhar com grafos. Vamos criar um grafo que represente uma rede social, onde os nós são usuários e as arestas são amizades entre eles:"
      ],
      "metadata": {
        "id": "tV90LUbyn6u1"
      }
    },
    {
      "cell_type": "code",
      "source": [
        "#instalando a biblioteca networkX\n",
        "!pip install networkX"
      ],
      "metadata": {
        "id": "kE-u6XMmoI4C"
      },
      "execution_count": null,
      "outputs": []
    },
    {
      "cell_type": "code",
      "source": [
        "#importando a biblioteca\n",
        "import networkx as nx"
      ],
      "metadata": {
        "id": "q8Pr8QKdoZmn"
      },
      "execution_count": 3,
      "outputs": []
    },
    {
      "cell_type": "code",
      "source": [
        "#Vamos construir o grafo e adicioanar os nós\n",
        "G= nx.Graph()\n",
        "G.add_node(\"Thiago\")\n",
        "G.add_node(\"Pedro\")\n",
        "G.add_node(\"Gustavo\")\n",
        "G.add_node(\"Ana\")\n",
        "G.add_node(\"Beatriz\")"
      ],
      "metadata": {
        "id": "-_0QqJfeogOn"
      },
      "execution_count": 4,
      "outputs": []
    },
    {
      "cell_type": "code",
      "source": [
        "#Adicionando as arestas\n",
        "G.add_edge(\"Thiago\",\"Pedro\")\n",
        "G.add_edge(\"Pedro\",\"Gustavo\")\n",
        "G.add_edge(\"Gustavo\",\"Ana\")\n",
        "G.add_edge(\"Ana\",\"Beatriz\")\n",
        "G.add_edge(\"Beatriz\",\"Thiago\")"
      ],
      "metadata": {
        "id": "Op2tSusgo2xS"
      },
      "execution_count": 5,
      "outputs": []
    },
    {
      "cell_type": "code",
      "source": [
        "#desenhando o grafo\n",
        "nx.draw(G, with_labels=True)"
      ],
      "metadata": {
        "colab": {
          "base_uri": "https://localhost:8080/",
          "height": 319
        },
        "id": "habQP7gSpS7Y",
        "outputId": "90761373-17c9-4a70-f2fd-9aae5cf609a5"
      },
      "execution_count": 6,
      "outputs": [
        {
          "output_type": "display_data",
          "data": {
            "text/plain": [
              "<Figure size 432x288 with 1 Axes>"
            ],
            "image/png": "[encoded data removed]"
          },
          "metadata": {}
        }
      ]
    },
    {
      "cell_type": "markdown",
      "source": [
        "Com isso conseguimos criar um grafo com a biblioteca NetworkX. É importante mencionar que existem várias outras funcionalidades e recursos que podem ser utilizados, como calcular o grau de um nó, encotrar caminhos mais curtos entre eles."
      ],
      "metadata": {
        "id": "36CJIEwUpYd7"
      }
    },
    {
      "cell_type": "markdown",
      "source": [
        "A teoria de grafos é uma ferramenta importante e poderosa para a resolução de problemas em muitas áreas, como inteligência artificial, computação gráfica, redes de computadores, entre outras. Além disso, a biblioteca NetworkX é uma excelente opção para trabalhar com grafos em Python. "
      ],
      "metadata": {
        "id": "IzXDsdt9pocJ"
      }
    },
    {
      "cell_type": "code",
      "source": [],
      "metadata": {
        "id": "SgGw9E8Cp_xO"
      },
      "execution_count": null,
      "outputs": []
    }
  ]
}